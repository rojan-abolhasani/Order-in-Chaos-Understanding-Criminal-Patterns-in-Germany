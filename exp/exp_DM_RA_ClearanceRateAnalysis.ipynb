{
  "cells": [
    {
      "cell_type": "markdown",
      "metadata": {
        "id": "8JQSETpI_Ko-"
      },
      "source": [
        "In this notebook we analyse the clearance rates for each year, comparing it to the total number of cases and grouped by categories of offenses."
      ]
    },
    {
      "cell_type": "code",
      "execution_count": 1,
      "metadata": {
        "colab": {
          "base_uri": "https://localhost:8080/"
        },
        "id": "7urDIGV6_ury",
        "outputId": "fe2bc3ad-9917-4e87-cb2e-48ac2b6801e2"
      },
      "outputs": [
        {
          "name": "stdout",
          "output_type": "stream",
          "text": [
            "Requirement already satisfied: tabula-py in c:\\users\\admin\\anaconda3\\lib\\site-packages (2.9.0)\n",
            "Requirement already satisfied: pandas>=0.25.3 in c:\\users\\admin\\anaconda3\\lib\\site-packages (from tabula-py) (1.3.4)\n",
            "Requirement already satisfied: distro in c:\\users\\admin\\anaconda3\\lib\\site-packages (from tabula-py) (1.8.0)\n",
            "Requirement already satisfied: numpy in c:\\users\\admin\\anaconda3\\lib\\site-packages (from tabula-py) (1.20.3)\n",
            "Requirement already satisfied: python-dateutil>=2.7.3 in c:\\users\\admin\\anaconda3\\lib\\site-packages (from pandas>=0.25.3->tabula-py) (2.8.2)\n",
            "Requirement already satisfied: pytz>=2017.3 in c:\\users\\admin\\anaconda3\\lib\\site-packages (from pandas>=0.25.3->tabula-py) (2021.3)\n",
            "Requirement already satisfied: six>=1.5 in c:\\users\\admin\\anaconda3\\lib\\site-packages (from python-dateutil>=2.7.3->pandas>=0.25.3->tabula-py) (1.16.0)\n",
            "Note: you may need to restart the kernel to use updated packages.\n",
            "Requirement already satisfied: tueplots in c:\\users\\admin\\anaconda3\\lib\\site-packages (0.0.11)\n",
            "Requirement already satisfied: numpy in c:\\users\\admin\\anaconda3\\lib\\site-packages (from tueplots) (1.20.3)\n",
            "Requirement already satisfied: matplotlib in c:\\users\\admin\\anaconda3\\lib\\site-packages (from tueplots) (3.4.3)\n",
            "Requirement already satisfied: python-dateutil>=2.7 in c:\\users\\admin\\anaconda3\\lib\\site-packages (from matplotlib->tueplots) (2.8.2)\n",
            "Requirement already satisfied: pillow>=6.2.0 in c:\\users\\admin\\anaconda3\\lib\\site-packages (from matplotlib->tueplots) (8.4.0)\n",
            "Requirement already satisfied: cycler>=0.10 in c:\\users\\admin\\anaconda3\\lib\\site-packages (from matplotlib->tueplots) (0.10.0)\n",
            "Requirement already satisfied: pyparsing>=2.2.1 in c:\\users\\admin\\anaconda3\\lib\\site-packages (from matplotlib->tueplots) (3.0.4)\n",
            "Requirement already satisfied: kiwisolver>=1.0.1 in c:\\users\\admin\\anaconda3\\lib\\site-packages (from matplotlib->tueplots) (1.3.1)\n",
            "Requirement already satisfied: six in c:\\users\\admin\\anaconda3\\lib\\site-packages (from cycler>=0.10->matplotlib->tueplots) (1.16.0)\n",
            "Note: you may need to restart the kernel to use updated packages.\n"
          ]
        }
      ],
      "source": [
        "#importing packages\n",
        "\n",
        "%pip install tabula-py\n",
        "%pip install tueplots\n",
        "\n",
        "import numpy as np\n",
        "import pandas as pd\n",
        "import matplotlib.pyplot as plt\n",
        "from matplotlib import ticker\n",
        "from tueplots import bundles\n",
        "from tueplots.constants.color import rgb\n",
        "import math\n",
        "import scipy.stats\n",
        "from tueplots import figsizes, fontsizes, fonts"
      ]
    },
    {
      "cell_type": "markdown",
      "metadata": {
        "id": "JCHT1hGWAY7K"
      },
      "source": [
        "Between 2002 and 2013 the datasets were only available in PDF format, so in a preprocessing step we extracted the data to excel files. Also in these years there are fewer features for each offence category, so we read these files separately."
      ]
    },
    {
      "cell_type": "code",
      "execution_count": 2,
      "metadata": {
        "colab": {
          "base_uri": "https://localhost:8080/",
          "height": 510
        },
        "id": "k_zWBB-3AYWI",
        "outputId": "4691645b-f213-4b27-b21c-288864f79b28"
      },
      "outputs": [
        {
          "data": {
            "text/html": [
              "<div>\n",
              "<style scoped>\n",
              "    .dataframe tbody tr th:only-of-type {\n",
              "        vertical-align: middle;\n",
              "    }\n",
              "\n",
              "    .dataframe tbody tr th {\n",
              "        vertical-align: top;\n",
              "    }\n",
              "\n",
              "    .dataframe thead th {\n",
              "        text-align: right;\n",
              "    }\n",
              "</style>\n",
              "<table border=\"1\" class=\"dataframe\">\n",
              "  <thead>\n",
              "    <tr style=\"text-align: right;\">\n",
              "      <th></th>\n",
              "      <th>Key</th>\n",
              "      <th>Offence</th>\n",
              "      <th>Recorded Cases</th>\n",
              "      <th>Recorded Cases Previous Year</th>\n",
              "      <th>Change in number</th>\n",
              "      <th>Change in %</th>\n",
              "      <th>CR% This Year</th>\n",
              "    </tr>\n",
              "  </thead>\n",
              "  <tbody>\n",
              "    <tr>\n",
              "      <th>0</th>\n",
              "      <td>----</td>\n",
              "      <td>Total offenses</td>\n",
              "      <td>6507394</td>\n",
              "      <td>6363865</td>\n",
              "      <td>143529</td>\n",
              "      <td>2.3</td>\n",
              "      <td>52.6</td>\n",
              "    </tr>\n",
              "    <tr>\n",
              "      <th>1</th>\n",
              "      <td>0000</td>\n",
              "      <td>Offenses against life</td>\n",
              "      <td>3541</td>\n",
              "      <td>3577</td>\n",
              "      <td>-36</td>\n",
              "      <td>-1.0</td>\n",
              "      <td>94.5</td>\n",
              "    </tr>\n",
              "    <tr>\n",
              "      <th>2</th>\n",
              "      <td>0100</td>\n",
              "      <td>murder (Sect. 211 PC)</td>\n",
              "      <td>873</td>\n",
              "      <td>860</td>\n",
              "      <td>13</td>\n",
              "      <td>1.5</td>\n",
              "      <td>96.7</td>\n",
              "    </tr>\n",
              "    <tr>\n",
              "      <th>3</th>\n",
              "      <td>0110</td>\n",
              "      <td>robbery attended with murder</td>\n",
              "      <td>64</td>\n",
              "      <td>99</td>\n",
              "      <td>-35</td>\n",
              "      <td>x</td>\n",
              "      <td>95.3</td>\n",
              "    </tr>\n",
              "    <tr>\n",
              "      <th>4</th>\n",
              "      <td>0120</td>\n",
              "      <td>sexual murder</td>\n",
              "      <td>27</td>\n",
              "      <td>24</td>\n",
              "      <td>3</td>\n",
              "      <td>x</td>\n",
              "      <td>114.8</td>\n",
              "    </tr>\n",
              "    <tr>\n",
              "      <th>...</th>\n",
              "      <td>...</td>\n",
              "      <td>...</td>\n",
              "      <td>...</td>\n",
              "      <td>...</td>\n",
              "      <td>...</td>\n",
              "      <td>...</td>\n",
              "      <td>...</td>\n",
              "    </tr>\n",
              "    <tr>\n",
              "      <th>396</th>\n",
              "      <td>8935</td>\n",
              "      <td>economic crime in connection with</td>\n",
              "      <td>14668</td>\n",
              "      <td>13538</td>\n",
              "      <td>1130</td>\n",
              "      <td>8.3</td>\n",
              "      <td>100.3</td>\n",
              "    </tr>\n",
              "    <tr>\n",
              "      <th>397</th>\n",
              "      <td>8936</td>\n",
              "      <td>fraud and breach of trust in connection with</td>\n",
              "      <td>16422</td>\n",
              "      <td>36393</td>\n",
              "      <td>-19971</td>\n",
              "      <td>-54.9</td>\n",
              "      <td>99.7</td>\n",
              "    </tr>\n",
              "    <tr>\n",
              "      <th>398</th>\n",
              "      <td>8960</td>\n",
              "      <td>offenses against provisions designed to</td>\n",
              "      <td>993</td>\n",
              "      <td>1016</td>\n",
              "      <td>-23</td>\n",
              "      <td>-2.3</td>\n",
              "      <td>91.3</td>\n",
              "    </tr>\n",
              "    <tr>\n",
              "      <th>399</th>\n",
              "      <td>8970</td>\n",
              "      <td>computer crime</td>\n",
              "      <td>57488</td>\n",
              "      <td>79283</td>\n",
              "      <td>-21795</td>\n",
              "      <td>-27.5</td>\n",
              "      <td>50.0</td>\n",
              "    </tr>\n",
              "    <tr>\n",
              "      <th>400</th>\n",
              "      <td>8990</td>\n",
              "      <td>street crime</td>\n",
              "      <td>1795355</td>\n",
              "      <td>1693746</td>\n",
              "      <td>101609</td>\n",
              "      <td>6.0</td>\n",
              "      <td>15.9</td>\n",
              "    </tr>\n",
              "  </tbody>\n",
              "</table>\n",
              "<p>401 rows × 7 columns</p>\n",
              "</div>"
            ],
            "text/plain": [
              "      Key                                       Offence Recorded Cases  \\\n",
              "0    ----                                Total offenses        6507394   \n",
              "1    0000                         Offenses against life           3541   \n",
              "2    0100                         murder (Sect. 211 PC)            873   \n",
              "3    0110                  robbery attended with murder             64   \n",
              "4    0120                                 sexual murder             27   \n",
              "..    ...                                           ...            ...   \n",
              "396  8935             economic crime in connection with          14668   \n",
              "397  8936  fraud and breach of trust in connection with          16422   \n",
              "398  8960       offenses against provisions designed to            993   \n",
              "399  8970                                computer crime          57488   \n",
              "400  8990                                  street crime        1795355   \n",
              "\n",
              "    Recorded Cases Previous Year Change in number Change in % CR% This Year  \n",
              "0                        6363865           143529         2.3          52.6  \n",
              "1                           3577              -36        -1.0          94.5  \n",
              "2                            860               13         1.5          96.7  \n",
              "3                             99              -35           x          95.3  \n",
              "4                             24                3           x         114.8  \n",
              "..                           ...              ...         ...           ...  \n",
              "396                        13538             1130         8.3         100.3  \n",
              "397                        36393           -19971       -54.9          99.7  \n",
              "398                         1016              -23        -2.3          91.3  \n",
              "399                        79283           -21795       -27.5          50.0  \n",
              "400                      1693746           101609         6.0          15.9  \n",
              "\n",
              "[401 rows x 7 columns]"
            ]
          },
          "execution_count": 2,
          "metadata": {},
          "output_type": "execute_result"
        }
      ],
      "source": [
        "#reading all cases between 2002 and 2013\n",
        "cases = []\n",
        "cases_col_names = ['Key', 'Offence', 'Recorded Cases', 'Recorded Cases Previous Year', 'Change in number', 'Change in %', 'CR% This Year']\n",
        "\n",
        "for i in range(2,14):\n",
        "  if(i<10):\n",
        "    cases_in_this_year = pd.read_excel(f'Cases200{i}.xlsx', skiprows=0)\n",
        "  else:\n",
        "    cases_in_this_year = pd.read_excel(f'Cases20{i}.xlsx', skiprows=0)\n",
        "  for j in range(len(cases_col_names)):\n",
        "    cases_in_this_year.columns.array[j] = cases_col_names[j]\n",
        "  to_drop = []\n",
        "  i = 0\n",
        "  for ind in cases_in_this_year.index:\n",
        "    if cases_in_this_year['Key'].isnull()[i] == True:\n",
        "        to_drop.append(i)\n",
        "    i += 1\n",
        "  cases_in_this_year = cases_in_this_year.drop(index=to_drop, axis=0)\n",
        "  cases_in_this_year = cases_in_this_year.reset_index()\n",
        "  cases_in_this_year = cases_in_this_year.drop(columns=['index'])\n",
        "\n",
        "  cases.append(cases_in_this_year)\n",
        "cases[0]"
      ]
    },
    {
      "cell_type": "code",
      "execution_count": 3,
      "metadata": {
        "id": "B6VKgTVHAuLP"
      },
      "outputs": [],
      "source": [
        "#reading all cases, suspects, victims, and developement files between 2014 and 2022\n",
        "suspects = []\n",
        "victims = []\n",
        "developments = []\n",
        "\n",
        "cases_col_names = ['Key', 'Offence', 'Recorded Cases', 'Percentage of All Cases', 'Attempts', 'Attempts in %', 'Inhabitants < 20k', '20k < Inhabitants < 100k', '100k < Inhabitants < 500k',\n",
        "             'Inhabitants > 500k', 'Number of Inhabitants Unknown', 'Threatened with Firearm', 'Shot', 'Clearance', 'Clearance in %', 'Number of Suspects Recorded', 'Male Suspects',\n",
        "             'Female Suspects', 'Number of Non-German Suspects', 'Non-German Suspects in %']\n",
        "suspects_col_names = ['Key', 'Offence', 'Sex', 'Number of Suspects', 'Age < 6', '6 < Age < 8', '8 < Age < 10', '10 < Age < 12', '12 < Age < 14',\n",
        "             'Age < 14', '14 < Age < 16', '16 < Age < 18', '14 < Age < 18', '18 < Age < 21', 'Age < 21', '21 < Age < 23', '23 < Age < 25',\n",
        "             '21 < Age < 25', '25 < Age < 30', '30 < Age < 40', '40 < Age < 50', '50 < Age < 60', '60 < Age', '21 < Age']\n",
        "victims_col_names = ['Key', 'Offence', 'Case status', 'Total', 'Male', 'Female', 'Total Age < 6', 'Male Age < 6', 'Female Age < 6',\n",
        "                     'Total 6 < Age < 14', 'Male 6 < Age < 14', 'Female 6 < Age < 14', 'Total Age < 14', 'Male Age < 14', 'Female Age < 14',\n",
        "                     'Total 14 < Age < 18', 'Male 14 < Age < 18', 'Female 14 < Age < 18', 'Total 18 < Age < 21', 'Male 18 < Age < 21', 'Female 18 < Age < 21',\n",
        "                     'Total 21 < Age < 60', 'Male 21 < Age < 60', 'Female 21 < Age < 60', 'Total 60 < Age', 'Male 60 < Age', 'Female 60 < Age',\n",
        "                     'Total 21 < Age', 'Male 21 < Age', 'Female 21 < Age']\n",
        "developments_col_names = ['Change', 'Key', 'Offence', 'Recorded cases this year', 'Recorded cases previous year', 'Change number', 'Change in %', 'CR% this year', 'CR% previous year']\n",
        "\n",
        "for i in range(14,23):\n",
        "  cases_in_this_year = pd.read_excel(f'pks20{i}CasesBasicTable_excel.xlsx', skiprows=7)\n",
        "  suspects_in_this_year = pd.read_excel(f'pks20{i}Suspects_excel.xlsx', skiprows=8)\n",
        "  victims_in_this_year = pd.read_excel(f'pks20{i}Victims_excel.xlsx', skiprows=6)\n",
        "  developments_in_this_year = pd.read_excel(f'pks20{i}CasesDevelopment_excel.xlsx', skiprows=17)\n",
        "\n",
        "  #cases_in_this_year = cases_in_this_year.drop(cases_in_this_year.columns[0], axis=1)\n",
        "  #suspects_in_this_year = suspects_in_this_year.drop(suspects_in_this_year.columns[0], axis=1)\n",
        "  #victims_in_this_year = victims_in_this_year.drop(victims_in_this_year.columns[0], axis=1)\n",
        "\n",
        "  for j in range(len(cases_col_names)):\n",
        "    cases_in_this_year.columns.array[j] = cases_col_names[j]\n",
        "  for j in range(len(suspects_col_names)):\n",
        "    suspects_in_this_year.columns.array[j] = suspects_col_names[j]\n",
        "  for j in range(len(victims_col_names)):\n",
        "    victims_in_this_year.columns.array[j] = victims_col_names[j]\n",
        "  for j in range(len(developments_col_names)):\n",
        "    developments_in_this_year.columns.array[j] = developments_col_names[j]\n",
        "\n",
        "  cases.append(cases_in_this_year)\n",
        "  suspects.append(suspects_in_this_year)\n",
        "  victims.append(victims_in_this_year)\n",
        "  developments.append(developments_in_this_year)"
      ]
    },
    {
      "cell_type": "markdown",
      "metadata": {
        "id": "RgSNyCRyBOUw"
      },
      "source": [
        "In the next section we consider blue-collar and white-collar crimes separately. The offence keys starting with 0,1,2,3,4 and * contain the most tipical blue-collar crimes, while the offences with keys starting with 5 cover the most frequent white-collar crimes."
      ]
    },
    {
      "cell_type": "code",
      "execution_count": 7,
      "metadata": {
        "id": "aQYQ1wu6-yYY"
      },
      "outputs": [],
      "source": [
        "# Create a master dataframe with the unique offenses from all dataframes\n",
        "unique_offenses = pd.concat([development[['Offence']] for development in developments], ignore_index=True)['Offence'].unique()\n",
        "master_df = pd.DataFrame(unique_offenses, columns=['Offence'])\n",
        "\n",
        "\n",
        "# Create a dataframe for clearance rates for all years\n",
        "clearance_rates_df = pd.DataFrame({'Offence': master_df['Offence']})\n",
        "\n",
        "# Merge clearance rates for each year into the clearance_rates_df\n",
        "for i, df in enumerate(developments):\n",
        "    clearance_rates_df = clearance_rates_df.merge(df[['Offence', 'CR% this year']], on='Offence', how='left')\n",
        "\n",
        "    # Rename the clearance rate column to include the year\n",
        "    clearance_rates_df = clearance_rates_df.rename(columns={'CR% this year': f'ClearanceRate_{2014 + i}'})\n",
        "\n",
        "# Now, merge the clearance_rates_df with the master_df\n",
        "clearance_rates_df = clearance_rates_df.drop_duplicates(subset=['Offence'])\n",
        "master_df = pd.merge(master_df, clearance_rates_df, on='Offence', how='left').fillna(0)\n",
        "master_df.replace('-', 0, inplace=True)"
      ]
    },
    {
      "cell_type": "code",
      "execution_count": 8,
      "metadata": {
        "colab": {
          "base_uri": "https://localhost:8080/",
          "height": 1000
        },
        "id": "XJi9FSTqA3K8",
        "outputId": "ea91dfc4-5245-40a9-e9bf-5330906db2f2"
      },
      "outputs": [
        {
          "data": {
            "image/png": "[encoded data removed]",
            "text/plain": [
              "<Figure size 234x144.62 with 2 Axes>"
            ]
          },
          "metadata": {
            "needs_background": "light"
          },
          "output_type": "display_data"
        }
      ],
      "source": [
        "new_years = [*range(2014,2023)]\n",
        "master_df.set_index('Offence', inplace=True)\n",
        "numpy_df = master_df.to_numpy()\n",
        "numpy_df = np.clip(numpy_df, None, 100)\n",
        "\n",
        "plt.imshow(numpy_df.T, aspect='auto', cmap='cividis')\n",
        "plt.colorbar()\n",
        "\n",
        "plt.axvline(x=15, color='cyan', linestyle='--', linewidth=1.2)\n",
        "plt.axvline(x=65, color='cyan', linestyle='--', linewidth=1.2)\n",
        "plt.axvline(x=122, color='cyan', linestyle='--', linewidth=1.2)\n",
        "plt.axvline(x=195, color='cyan', linestyle='--', linewidth=1.2)\n",
        "plt.axvline(x=420, color='deeppink', linestyle='--', linewidth=1.2)\n",
        "plt.axvline(x=530, color='deeppink', linestyle='--', linewidth=1.2)\n",
        "plt.axvline(x=780, color='cyan', linestyle='--', linewidth=1.2)\n",
        "plt.axvline(x=1010, color='cyan', linestyle='--', linewidth=1.2)\n",
        "#plt.xticks([30, 100, 160, 300, 480, 650, 900, 1200], ['Offences against life and \\nsexual self-determination','Robbery', 'Personal freedom', 'Theft and burglary','White-collar crimes', 'Other criminal offences', 'Supplementary criminal laws', 'Aggregate keys'])\n",
        "plt.xticks([30, 100, 160, 300, 480, 650, 900, 1200], [*range(1,9)])\n",
        "plt.xticks()\n",
        "plt.yticks([0,1,2,3,4,5,6,7,8], new_years)\n",
        "plt.title('Clearance rate percentages')\n",
        "\n",
        "plt.rcParams.update(bundles.icml2022(column='half', nrows=1, ncols=1, usetex=False))\n",
        "plt.rcParams['font.family'] = 'times new roman'\n",
        "plt.rcParams.update(fontsizes.icml2022())\n",
        "plt.savefig('clearance_rate_heatmap.pdf', dpi=100)"
      ]
    },
    {
      "cell_type": "code",
      "execution_count": null,
      "metadata": {
        "id": "6LqQpsfcA5B1"
      },
      "outputs": [],
      "source": []
    }
  ],
  "metadata": {
    "colab": {
      "provenance": []
    },
    "kernelspec": {
      "display_name": "Python 3",
      "name": "python3"
    },
    "language_info": {
      "codemirror_mode": {
        "name": "ipython",
        "version": 3
      },
      "file_extension": ".py",
      "mimetype": "text/x-python",
      "name": "python",
      "nbconvert_exporter": "python",
      "pygments_lexer": "ipython3",
      "version": "3.9.7"
    }
  },
  "nbformat": 4,
  "nbformat_minor": 0
}
